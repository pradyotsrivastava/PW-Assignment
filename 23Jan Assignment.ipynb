{
 "cells": [
  {
   "cell_type": "markdown",
   "id": "aa8f1849-a134-4676-a9c5-c0c868b2d9d2",
   "metadata": {},
   "source": [
    "1. What is Git?\n",
    "Git is a DevOps tool used for source code management. It is a free and open-source version control system used to handle small to very large projects efficiently."
   ]
  },
  {
   "cell_type": "markdown",
   "id": "38d1acf4-2f2f-43b9-85e8-556ab20f7f69",
   "metadata": {},
   "source": [
    "2. What do you understand by the term ‘Version Control System?'\n",
    "A version control system (VCS) tracks changes to a file or set of files over time. The most common type is a centralized VCS, which uses a server to store all the versions of a file. Developers can check out a file from the server, make changes, and check the file back in."
   ]
  },
  {
   "cell_type": "markdown",
   "id": "0b51b1a7-81e4-4d28-a478-09426a716ac8",
   "metadata": {},
   "source": [
    "3. What is GitHub?\n",
    "GitHub is a code hosting platform for version control and collaboration. It lets you and others work together on projects from anywhere. GitHub is a website and cloud-based service that helps developers store and manage their code, as well as track and control changes to their code."
   ]
  },
  {
   "cell_type": "markdown",
   "id": "ea14e82e-5bf2-4bbd-abf3-306160239747",
   "metadata": {},
   "source": [
    "4. Mention some popular Git hosting services?\n",
    "Bitbucket, GitHub, GitLab, Perforce, Beanstalk, Amazon AWS CodeCommit, Codebase, Microsoft Azure DevOps, SourceForge, Gerrit"
   ]
  },
  {
   "cell_type": "markdown",
   "id": "9cd1c90f-3333-4f58-9d2d-8d9e92660c97",
   "metadata": {},
   "source": [
    "5. Different types of version control system?\n",
    "There are 2 types of Version Control System:-\n",
    "Centralized version control & Distributed version control"
   ]
  },
  {
   "cell_type": "markdown",
   "id": "adb64c8e-086b-4225-93bd-89829329f0f9",
   "metadata": {},
   "source": [
    "6. What benefits come with using GIT?\n",
    "The advantages of Git are:- \n",
    "i.   Git performs very strongly and reliably when compared to other version control systems.\n",
    "ii.  Git is designed specially to maintain the integrity of source code.\n",
    "iii. A key design objective of Git is the kind of flexibility it offers to support several kinds of nonlinear development workflows and its efficiency in handling both small scale and large scale projects as well as protocols.\n",
    "iv.  Git offers the type of performance, functionality, security, and flexibility that most developers and teams need to develop their projects."
   ]
  },
  {
   "cell_type": "markdown",
   "id": "57b8655f-aa07-4e56-a6d5-b574745e36a4",
   "metadata": {},
   "source": [
    "7. What is a Git repository?\n",
    "A Git repository stores the history of changes made to your codebase by a collection of files and folders. For a developer, it is extremely useful since it allows me to keep a single view of the project codebase, back up a backup copy of the entire project history, easily retrieve older versions of the whole codebase or individual files, debug code, find out who wrote a specific change and a lot more.  This is extremely useful for development teams. "
   ]
  },
  {
   "cell_type": "markdown",
   "id": "82aded60-8803-4a9f-b5a2-6fecbf909a3e",
   "metadata": {},
   "source": [
    "8. How can you initialize a repository in Git?\n",
    "git init :- To create a new repository, the git init command is used. 'git init' is a one-time command you use during the initial setup of a new repo. Executing this command will create a new .git subdirectory in your current working directory. This will also create a new main branch."
   ]
  }
 ],
 "metadata": {
  "kernelspec": {
   "display_name": "Python 3 (ipykernel)",
   "language": "python",
   "name": "python3"
  },
  "language_info": {
   "codemirror_mode": {
    "name": "ipython",
    "version": 3
   },
   "file_extension": ".py",
   "mimetype": "text/x-python",
   "name": "python",
   "nbconvert_exporter": "python",
   "pygments_lexer": "ipython3",
   "version": "3.10.8"
  }
 },
 "nbformat": 4,
 "nbformat_minor": 5
}
