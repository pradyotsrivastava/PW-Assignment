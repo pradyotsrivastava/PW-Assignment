{
 "cells": [
  {
   "cell_type": "markdown",
   "id": "e5169e7c-6037-4f0d-b921-0df91be8bfbf",
   "metadata": {},
   "source": [
    "1. What is a Computer?\n",
    "A computer is an electronic device that stores and processes data, often in \n",
    "binary form, in accordance with commands from a variable programme. It accepts raw data as input and processes it with a set of instructions (a program) to produce the result as output. "
   ]
  },
  {
   "cell_type": "markdown",
   "id": "5cec1206-d36a-4273-91e2-82f8c65f1d12",
   "metadata": {},
   "source": [
    "2. What is RAM?\n",
    "RAM, which stands for Random Access Memory, is a hardware device generally located on the motherboard of a computer and acts as an internal memory of the CPU. It allows CPU store data, program, and program results when you switch on the computer. It is the read and write memory of a computer, which means the information can be written to it as well as read from it."
   ]
  },
  {
   "cell_type": "markdown",
   "id": "5647b0e2-bdaf-4885-9ef1-3f10e35ac9d9",
   "metadata": {},
   "source": [
    "3. Where is data stored in a computer?\n",
    "Data in a computer is stored in various types of memory -\n",
    "Primary Memory also known as RAM (Random Access Memory) and \n",
    "Secondary Memory also known as storage. This includes hard drives, solid-state drives (SSDs), USB flash drives, and other types of storage media."
   ]
  },
  {
   "cell_type": "markdown",
   "id": "92a24f26-f92a-4832-9d65-86d33083a68f",
   "metadata": {},
   "source": [
    "4. What is that input device used to type text and numbers on a document in the computer system?\n",
    "The keyboard is an input device that allows you to enter letters, numbers and symbols into your computer."
   ]
  },
  {
   "cell_type": "markdown",
   "id": "b70352be-f5de-4f06-bd09-b1c78d003e6b",
   "metadata": {},
   "source": [
    "5. What are the output devices?\n",
    "An output device allows data to be transmitted by the computer in a human-friendly form.\n",
    "Monitor\n",
    "Printers\n",
    "Headphone\n",
    "Computer Speaker\n",
    "Projector"
   ]
  },
  {
   "cell_type": "markdown",
   "id": "31a638a6-822e-4ea4-b026-e2e0b2396ed1",
   "metadata": {},
   "source": [
    "6. Which is the input device that allows a user to move the cursor or pointer on the screen?\n",
    "Mouse is a pointing device that controls the position of the cursor on a computer screen without using keyboard."
   ]
  },
  {
   "cell_type": "markdown",
   "id": "0bed0326-6022-4875-8e7d-68997b62ae53",
   "metadata": {},
   "source": [
    "7. Which language is directly understood by the computer without a translation program?\n",
    "Machine language is the language understood by a computer. It is very difficult to understand, but it is the only thing that the computer can work with."
   ]
  },
  {
   "cell_type": "markdown",
   "id": "f431bc97-cfaa-476b-b228-856ef18b02a2",
   "metadata": {},
   "source": [
    "8. What are input devices?\n",
    "An input device is any hardware device that sends data to a computer, allowing you to interact with and control it.\n",
    "Keyboard.\n",
    "Mouse.\n",
    "Joy Stick.\n",
    "Scanner.\n",
    "Microphone."
   ]
  }
 ],
 "metadata": {
  "kernelspec": {
   "display_name": "Python 3 (ipykernel)",
   "language": "python",
   "name": "python3"
  },
  "language_info": {
   "codemirror_mode": {
    "name": "ipython",
    "version": 3
   },
   "file_extension": ".py",
   "mimetype": "text/x-python",
   "name": "python",
   "nbconvert_exporter": "python",
   "pygments_lexer": "ipython3",
   "version": "3.10.8"
  }
 },
 "nbformat": 4,
 "nbformat_minor": 5
}
