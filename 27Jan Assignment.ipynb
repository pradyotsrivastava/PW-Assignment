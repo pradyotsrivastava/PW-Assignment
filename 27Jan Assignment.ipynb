{
 "cells": [
  {
   "cell_type": "markdown",
   "id": "13717773-5f1e-474b-b3e2-f639c776ee4e",
   "metadata": {},
   "source": [
    "1. What is statically typed and Dynamically typed Programming Language?\n",
    "In statically typed programming languages, type checking occurs at compile time. At compile time, source code in a specific programming language is converted to a machine-readable format. This means that before source code is compiled, the type associated with each and every single variable must be known.\n",
    "\n",
    "Conversely, in dynamically typed languages, type checking takes place at runtime or execution time. This means that variables are checked against types only when the program is executing."
   ]
  },
  {
   "cell_type": "markdown",
   "id": "390fff71-c11e-440d-afb2-ba8da06a365b",
   "metadata": {},
   "source": [
    "2. What is the variable in Java?\n",
    "Variables are containers for storing data values. Syntax :- \" type variableName = value; \""
   ]
  },
  {
   "cell_type": "markdown",
   "id": "39810b64-5166-48da-b110-71de64e3f647",
   "metadata": {},
   "source": [
    "3. How To Assign a Value To Variable?\n",
    "Syntax:- \" type variableName = value; \". Where type is one of Java's types (such as int or String), and variableName is the name of the variable (such as x or name). The equal sign is used to assign values to the variable. Example:- \n",
    "Creating a variable called name of type String and assign it the value \"John\":- String name = \"John\";"
   ]
  },
  {
   "cell_type": "markdown",
   "id": "ffbb2a7f-f040-4c27-ac71-4753bc7de45f",
   "metadata": {},
   "source": [
    "4. What are Primitive Data types in Java?\n",
    "Primitive data types are a set of basic data types from which all other data types are constructed. Primitive types are predefined (already defined) in Java."
   ]
  },
  {
   "cell_type": "markdown",
   "id": "0c454b87-7b1a-494b-afdf-05c70328d079",
   "metadata": {},
   "source": [
    "5. What are the identifiers in Java?\n",
    "Identifiers in Java are a sequence of characters to identify something in a program. They are names given to a class, variable, package, method, or interface and allow the programmer to refer to the specific item from any place in the program."
   ]
  },
  {
   "cell_type": "markdown",
   "id": "af395db5-8a69-439e-9841-05b1eef4da45",
   "metadata": {},
   "source": [
    "6. List the Operators in Java?\n",
    "Unary Operators. Arithmetic Operators. Assignment Operators. Logical Operators. Shift Operators. Bitwise Operators. Ternary Operators. Relational Operators."
   ]
  },
  {
   "cell_type": "markdown",
   "id": "a5f28ba0-663b-47cb-a65b-37af3f924ab6",
   "metadata": {},
   "source": [
    "7. Explain about Increment and Decrement operators and Give an examples?\n",
    "The increment(++) and decrement operators(--) are important unary operators in C. Unary operators are those which are applied on a single operand. The increment operator increases the value of the variable by one and the decrement operator decreases the value of the variable by one. Example:- \" a++ \", \" a-- \"."
   ]
  }
 ],
 "metadata": {
  "kernelspec": {
   "display_name": "Python 3 (ipykernel)",
   "language": "python",
   "name": "python3"
  },
  "language_info": {
   "codemirror_mode": {
    "name": "ipython",
    "version": 3
   },
   "file_extension": ".py",
   "mimetype": "text/x-python",
   "name": "python",
   "nbconvert_exporter": "python",
   "pygments_lexer": "ipython3",
   "version": "3.10.8"
  }
 },
 "nbformat": 4,
 "nbformat_minor": 5
}
