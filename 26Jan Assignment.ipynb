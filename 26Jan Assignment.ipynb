{
 "cells": [
  {
   "cell_type": "markdown",
   "id": "3dfdc08d-1b7b-46a0-b895-33836dfde378",
   "metadata": {},
   "source": [
    "1. What is Programming language?\n",
    "A programming language is a system of notation for writing computer programs. A programming language is a vocabulary and set of grammatical rules for instructing a computer or computing device to perform specific tasks."
   ]
  },
  {
   "cell_type": "markdown",
   "id": "5ef3f72d-9daf-4ec4-a4a4-748d71d67b16",
   "metadata": {},
   "source": [
    "2. Why do we need a Programming language?\n",
    "A computer cannot understand human languages directly. So, we need a language to communicate with a computer. Programming language helps in speeding up the input and output processes in a machine."
   ]
  },
  {
   "cell_type": "markdown",
   "id": "d4009d52-798e-4b9d-b6f2-ca4d67151109",
   "metadata": {},
   "source": [
    "3. What are the features of Java?\n",
    "Simple. Object-Oriented. Platform Independent. Portable. Robust. Secure. Interpreted. Multi-Threaded."
   ]
  },
  {
   "cell_type": "markdown",
   "id": "38861391-0d61-42e1-86c1-48f3fb3add68",
   "metadata": {},
   "source": [
    "4. What is an object?\n",
    "An entity that has state and behavior is known as an object. An object has three characteristics: State, Behavior, Identity."
   ]
  },
  {
   "cell_type": "markdown",
   "id": "ef8f28a7-0418-424f-90d1-7166874c31e3",
   "metadata": {},
   "source": [
    "5. What is a class?\n",
    "A class is a group of objects which have common properties. It is a template or blueprint from which objects are created. It is a logical entity. It can't be physical. A class in Java can contain: Fields, Methods, Constructors, Blocks, Nested class and interface."
   ]
  },
  {
   "cell_type": "markdown",
   "id": "0e71f5ff-2a3b-4547-98d9-c79db359d5f3",
   "metadata": {},
   "source": [
    "6. Explain about the main() method in Java?\n",
    "The Java main method is usually the first method you learn about when you start programming in Java because its the entry point for executing a Java program. The main method can contain code to execute or call other methods, and it can be placed in any class that's part of a program."
   ]
  }
 ],
 "metadata": {
  "kernelspec": {
   "display_name": "Python 3 (ipykernel)",
   "language": "python",
   "name": "python3"
  },
  "language_info": {
   "codemirror_mode": {
    "name": "ipython",
    "version": 3
   },
   "file_extension": ".py",
   "mimetype": "text/x-python",
   "name": "python",
   "nbconvert_exporter": "python",
   "pygments_lexer": "ipython3",
   "version": "3.10.8"
  }
 },
 "nbformat": 4,
 "nbformat_minor": 5
}
