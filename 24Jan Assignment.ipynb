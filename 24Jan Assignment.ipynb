{
 "cells": [
  {
   "cell_type": "markdown",
   "id": "29fc8231-2ee3-40a9-bb2b-7639913145c0",
   "metadata": {},
   "source": [
    "1. How to check if git is available on your system?\n",
    "We can check our current version of Git by running the git --version command in a terminal (Linux, macOS) or command prompt (Windows)."
   ]
  },
  {
   "cell_type": "markdown",
   "id": "3848ddc7-78d4-4d5e-94b1-47456ef11c24",
   "metadata": {},
   "source": [
    "2. How to initialize a new git repository?\n",
    "The git init command creates a new Git repository. It can be used to convert an existing, unversioned project to a Git repository or initialize a new, empty repository."
   ]
  },
  {
   "cell_type": "markdown",
   "id": "93b9faf5-8190-4c41-be11-85381b13267a",
   "metadata": {},
   "source": [
    "3. How to tell git about your name and email?\n",
    "We use these two command :- git config --global user.name \"My Name\"     and  git config --global user.email \"myemail@example.com\""
   ]
  },
  {
   "cell_type": "markdown",
   "id": "9ae43086-f9ba-446b-869e-4b3b05705f28",
   "metadata": {},
   "source": [
    "4. How to add a file to the staging area?\n",
    "The git add command adds a change in the working directory to the staging area."
   ]
  },
  {
   "cell_type": "markdown",
   "id": "27aa8006-2641-4bc6-9b4d-6f4d4740ff1a",
   "metadata": {},
   "source": [
    "5. How to remove a file from the staging area?\n",
    "We use “$ git rm –cached <file-name>” command to remove the particular file."
   ]
  },
  {
   "cell_type": "markdown",
   "id": "6b2918c8-fa52-432c-a06a-33659353eadd",
   "metadata": {},
   "source": [
    "6. How to make a commit?\n",
    "To add a Git commit message to the commit, we use the git commit command followed by the -m flag and then our message in quotes. Example:-                 git commit -m “Add an anchor for the trial end sectionnn.”"
   ]
  },
  {
   "cell_type": "markdown",
   "id": "bce3db92-ae89-454c-a501-29d59375ea5b",
   "metadata": {},
   "source": [
    "7. How to send your changes to a remote repssoitory?\n",
    "To push the commit from the local repo to your remote repositories, run git push -u remote-name branch-name where remote-name is the nickname the local repo uses for the remote repositories and branch-name is the name of the branch to push to the repository."
   ]
  },
  {
   "cell_type": "markdown",
   "id": "a01007bd-4a58-4f33-8580-301fa5947c16",
   "metadata": {},
   "source": [
    "8. What is the difference between clone and pull?\n",
    "git clone is how you get a local copy of an existing repository to work on. git pull is how you update that local copy with new commits from the remote repository."
   ]
  }
 ],
 "metadata": {
  "kernelspec": {
   "display_name": "Python 3 (ipykernel)",
   "language": "python",
   "name": "python3"
  },
  "language_info": {
   "codemirror_mode": {
    "name": "ipython",
    "version": 3
   },
   "file_extension": ".py",
   "mimetype": "text/x-python",
   "name": "python",
   "nbconvert_exporter": "python",
   "pygments_lexer": "ipython3",
   "version": "3.10.8"
  }
 },
 "nbformat": 4,
 "nbformat_minor": 5
}
